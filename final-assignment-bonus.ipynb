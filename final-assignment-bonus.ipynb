{
 "cells": [
  {
   "cell_type": "markdown",
   "source": [
    "<img style=\"float:left;\" src=\"https://cf-courses-data.s3.us.cloud-object-storage.appdomain.cloud/IBMDeveloperSkillsNetwork-DB0201EN-SkillsNetwork/labs/BonusModule_Coursera_v5/images/IDSNlogo.png\" width=\"200\" height=\"200\">\n",
    "\n",
    "# Final Project: Advanced SQL Techniques\n",
    "\n",
    "Estimated time needed: **60** minutes\n",
    "\n",
    "# Objectives\n",
    "\n",
    "After completing this lab, you will be able to:\n",
    "\n",
    "1.  Use joins to query data from multiple tables\n",
    "\n",
    "2.  Create and query views\n",
    "\n",
    "3.  Write and run stored procedures\n",
    "\n",
    "4.  Use transactions\n",
    "\n",
    "# Scenario\n",
    "\n",
    "In this project, you will work with three datasets that are available on the City of Chicago's Data Portal:\n",
    "\n",
    "*   Socioeconomic indicators in Chicago\n",
    "*   Chicago public schools\n",
    "*   Chicago crime data\n",
    "\n",
    "You must download each dataset, create a table for each one, and load the appropiate dataset through the Db2 console. If you have already completed the Hands on Lab: Joins, you can reuse the tables you created for that hands-on lab. However, you should not reuse similar tables with other names from other exercises or labs, as they may not create the correct results.\n",
    "\n",
    "**Important note:**\n",
    "\n",
    "If you have <b>not</b> yet downloaded the three datasets from the City of Chicago's Data Portal,\n",
    "created the required tables, and loaded the data, please follow the instructions in this section.\n",
    "\n",
    "## City of Chicago Datasets\n",
    "\n",
    "1.  **Socioeconomic indicators in Chicago**\n",
    "\n",
    "This dataset contains a selection of six socioeconomic indicators of public health significance and a â€œhardship index,â€ for each Chicago community area, for the years 2008 â€“ 2012. A detailed description of this dataset and the original dataset can be obtained from the Chicago Data Portal at:\n",
    "[https://data.cityofchicago.org/Health-Human-Services/Census-Data-Selected-socioeconomic-indicators-in-C/kn9c-c2s2](https://data.cityofchicago.org/Health-Human-Services/Census-Data-Selected-socioeconomic-indicators-in-C/kn9c-c2s2?utm_medium=Exinfluencer&utm_source=Exinfluencer&utm_content=000026UJ&utm_term=10006555&utm_id=NA-SkillsNetwork-Channel-SkillsNetworkCoursesIBMDeveloperSkillsNetworkDB0201ENSkillsNetwork20127838-2021-01-01)\n",
    "\n",
    "2.  **Chicago public schools**\n",
    "\n",
    "This dataset shows all school level performance data used to create CPS School Report Cards for the 2011-2012 school year. A detailed description of this dataset and the original dataset can be obtained from the Chicago Data Portal at:\n",
    "[https://data.cityofchicago.org/Education/Chicago-Public-Schools-Progress-Report-Cards-2011-/9xs2-f89t](https://data.cityofchicago.org/Education/Chicago-Public-Schools-Progress-Report-Cards-2011-/9xs2-f89t?utm_medium=Exinfluencer&utm_source=Exinfluencer&utm_content=000026UJ&utm_term=10006555&utm_id=NA-SkillsNetwork-Channel-SkillsNetworkCoursesIBMDeveloperSkillsNetworkDB0201ENSkillsNetwork20127838-2021-01-01)\n",
    "\n",
    "3.  **Chicago crime data**\n",
    "\n",
    "This dataset reflects reported incidents of crime (with the exception of murders where data exists for each victim) that occurred in the City of Chicago from 2001 to present, minus the most recent seven days. A detailed description of this dataset and the original dataset can be obtained from the Chicago Data Portal at: [https://data.cityofchicago.org/Public-Safety/Crimes-2001-to-present/ijzp-q8t2](https://data.cityofchicago.org/Public-Safety/Crimes-2001-to-present/ijzp-q8t2?utm_medium=Exinfluencer&utm_source=Exinfluencer&utm_content=000026UJ&utm_term=10006555&utm_id=NA-SkillsNetwork-Channel-SkillsNetworkCoursesIBMDeveloperSkillsNetworkDB0201ENSkillsNetwork20127838-2021-01-01)\n",
    "\n",
    "### Store the datasets in database tables\n",
    "\n",
    "The lab requires you to have these three tables populated with a subset of the whole datasets. Download the 'ChicagoCensusData.csv', 'ChicagoPublicSchools.csv', and 'ChicagoCrimeData.csv' datasets below and load the data into your Db2 On Cloud database.\n",
    "\n",
    "[Chicago Census Data](datasets/ChicagoCensusData.csv)\n",
    "\n",
    "[Chicago Public Schools](datasets/ChicagoPublicSchools.csv)\n",
    "\n",
    "[Chicago Crime Data](datasets/ChicagoCrimeData.csv)\n",
    "\n",
    "You need to create a new table for each dataset. As you load each dataset, click on \"(+) New Table\", specify the name of the table you want to create, and then click \"Next\".\n",
    "\n",
    "<img src=\"https://cf-courses-data.s3.us.cloud-object-storage.appdomain.cloud/IBMDeveloperSkillsNetwork-DB0201EN-SkillsNetwork/labs/BonusModule_Coursera_v5/images/LoadingData.png\" width=\"800\">\n",
    "\n",
    "Name the new tables as follows:\n",
    "\n",
    "1.  **CENSUS_DATA**\n",
    "2.  **CHICAGO_PUBLIC_SCHOOLS**\n",
    "3.  **CHICAGO_CRIME_DATA**\n",
    "\n",
    "After you have created the tables, review the data in each table by using the View Data feature in the Db2 On Cloud console."
   ],
   "metadata": {}
  },
  {
   "cell_type": "markdown",
   "source": [
    "### Connect to the database\n",
    "\n",
    "Let us first load the SQL extension and establish a connection with the database\n"
   ],
   "metadata": {}
  },
  {
   "cell_type": "code",
   "execution_count": 2,
   "source": [
    "# Load the SQL extension\n",
    "!pip install sqlalchemy==1.3.12\n",
    "!pip install ibm_db_sa\n",
    "%load_ext sql\n",
    "\n",
    "# Enter the connection string for your Db2 on Cloud database instance below\n",
    "%sql ibm_db_sa://"
   ],
   "outputs": [
    {
     "output_type": "stream",
     "name": "stdout",
     "text": [
      "Requirement already satisfied: sqlalchemy==1.3.12 in /Library/Frameworks/Python.framework/Versions/3.9/lib/python3.9/site-packages (1.3.12)\n",
      "Requirement already satisfied: ibm_db_sa in /Library/Frameworks/Python.framework/Versions/3.9/lib/python3.9/site-packages (0.3.7)\n",
      "Requirement already satisfied: ibm-db>=2.0.0 in /Library/Frameworks/Python.framework/Versions/3.9/lib/python3.9/site-packages (from ibm_db_sa) (3.0.4)\n",
      "Requirement already satisfied: sqlalchemy>=0.7.3 in /Library/Frameworks/Python.framework/Versions/3.9/lib/python3.9/site-packages (from ibm_db_sa) (1.3.12)\n"
     ]
    }
   ],
   "metadata": {}
  },
  {
   "cell_type": "markdown",
   "source": [
    "# Exercise 1: Using Joins\n",
    "\n",
    "You have been asked to produce some reports about the communities and crimes in the Chicago area. You will need to use SQL join queries to access the data stored across multiple tables.\n",
    "\n",
    "### Question 1\n",
    "\n",
    "*   Write and execute a SQL query to list the school names, community names and average attendance for communities with a hardship index of 98.\n",
    "\n",
    "<details>\n",
    "<summary>Hint 1\n",
    "</summary>\n",
    "Use tables CHICAGO_PUBLIC_SCHOOLS and CENSUS_DATA\n",
    "</details>\n",
    "\n",
    "<details>\n",
    "<summary>Hint 2\n",
    "</summary>\n",
    "Use a left join\n",
    "</details>\n",
    "\n",
    "**Take a screenshot showing the SQL query and its results.**"
   ],
   "metadata": {}
  },
  {
   "cell_type": "code",
   "execution_count": 3,
   "source": [
    "%%sql\n",
    "SELECT\n",
    "    PS.NAME_OF_SCHOOL,\n",
    "    PS.COMMUNITY_AREA_NAME,\n",
    "    PS.AVERAGE_STUDENT_ATTENDANCE\n",
    "FROM CHICAGO_PUBLIC_SCHOOLS PS \n",
    "JOIN CENSUS_DATA CD \n",
    "ON PS.COMMUNITY_AREA_NUMBER = CD.COMMUNITY_AREA_NUMBER\n",
    "WHERE CD.HARDSHIP_INDEX = 98\n",
    "ORDER BY PS.AVERAGE_STUDENT_ATTENDANCE DESC"
   ],
   "outputs": [
    {
     "output_type": "stream",
     "name": "stdout",
     "text": [
      " * ibm_db_sa://xdh94237:***@54a2f15b-5c0f-46df-8954-7e38e612c2bd.c1ogj3sd0tgtu0lqde00.databases.appdomain.cloud:32733/bludb\n",
      "Done.\n"
     ]
    },
    {
     "output_type": "execute_result",
     "data": {
      "text/html": [
       "<table>\n",
       "    <tr>\n",
       "        <th>name_of_school</th>\n",
       "        <th>community_area_name</th>\n",
       "        <th>average_student_attendance</th>\n",
       "    </tr>\n",
       "    <tr>\n",
       "        <td>William E B Dubois Elementary School</td>\n",
       "        <td>RIVERDALE</td>\n",
       "        <td>93.30%</td>\n",
       "    </tr>\n",
       "    <tr>\n",
       "        <td>Ira F Aldridge Elementary School</td>\n",
       "        <td>RIVERDALE</td>\n",
       "        <td>92.90%</td>\n",
       "    </tr>\n",
       "    <tr>\n",
       "        <td>George Washington Carver Military Academy High School</td>\n",
       "        <td>RIVERDALE</td>\n",
       "        <td>91.60%</td>\n",
       "    </tr>\n",
       "    <tr>\n",
       "        <td>George Washington Carver Primary School</td>\n",
       "        <td>RIVERDALE</td>\n",
       "        <td>90.90%</td>\n",
       "    </tr>\n",
       "</table>"
      ],
      "text/plain": [
       "[('William E B Dubois Elementary School', 'RIVERDALE', '93.30%'),\n",
       " ('Ira F Aldridge Elementary School', 'RIVERDALE', '92.90%'),\n",
       " ('George Washington Carver Military Academy High School', 'RIVERDALE', '91.60%'),\n",
       " ('George Washington Carver Primary School', 'RIVERDALE', '90.90%')]"
      ]
     },
     "metadata": {},
     "execution_count": 3
    }
   ],
   "metadata": {}
  },
  {
   "cell_type": "markdown",
   "source": [
    "### Question 2\n",
    "\n",
    "*   Write and execute a SQL query to list all crimes that took place at a school. Include case number, crime type and community name.\n",
    "\n",
    "<details>\n",
    "<summary>Hint 1\n",
    "</summary>\n",
    "Use tables CHICAGO_CRIME_DATA and CENSUS_DATA\n",
    "</details>\n",
    "\n",
    "<details>\n",
    "<summary>Hint 2\n",
    "</summary>\n",
    "Use a left join\n",
    "</details>\n",
    "\n",
    "<details>\n",
    "<summary>Hint 3\n",
    "</summary>\n",
    "The column location_description will help you find the crime location\n",
    "</details>\n",
    "\n",
    "**Take a screenshot showing the SQL query and its results.**"
   ],
   "metadata": {}
  },
  {
   "cell_type": "code",
   "execution_count": 4,
   "source": [
    "%%sql\n",
    "SELECT\n",
    "    CR.CASE_NUMBER,\n",
    "    CR.PRIMARY_TYPE,\n",
    "    CD.COMMUNITY_AREA_NAME\n",
    "FROM CHICAGO_CRIME_DATA CR\n",
    "LEFT JOIN CENSUS_DATA CD \n",
    "ON CR.COMMUNITY_AREA_NUMBER = CD.COMMUNITY_AREA_NUMBER\n",
    "WHERE CR.LOCATION_DESCRIPTION LIKE '%SCHOOL%'"
   ],
   "outputs": [
    {
     "output_type": "stream",
     "name": "stdout",
     "text": [
      " * ibm_db_sa://xdh94237:***@54a2f15b-5c0f-46df-8954-7e38e612c2bd.c1ogj3sd0tgtu0lqde00.databases.appdomain.cloud:32733/bludb\n",
      "Done.\n"
     ]
    },
    {
     "output_type": "execute_result",
     "data": {
      "text/html": [
       "<table>\n",
       "    <tr>\n",
       "        <th>case_number</th>\n",
       "        <th>primary_type</th>\n",
       "        <th>community_area_name</th>\n",
       "    </tr>\n",
       "    <tr>\n",
       "        <td>HK577020</td>\n",
       "        <td>NARCOTICS</td>\n",
       "        <td>Rogers Park</td>\n",
       "    </tr>\n",
       "    <tr>\n",
       "        <td>HL725506</td>\n",
       "        <td>BATTERY</td>\n",
       "        <td>Lincoln Square</td>\n",
       "    </tr>\n",
       "    <tr>\n",
       "        <td>HH639427</td>\n",
       "        <td>BATTERY</td>\n",
       "        <td>Austin</td>\n",
       "    </tr>\n",
       "    <tr>\n",
       "        <td>HS200939</td>\n",
       "        <td>CRIMINAL DAMAGE</td>\n",
       "        <td>Austin</td>\n",
       "    </tr>\n",
       "    <tr>\n",
       "        <td>HT315369</td>\n",
       "        <td>ASSAULT</td>\n",
       "        <td>East Garfield Park</td>\n",
       "    </tr>\n",
       "    <tr>\n",
       "        <td>HP716225</td>\n",
       "        <td>BATTERY</td>\n",
       "        <td>Douglas</td>\n",
       "    </tr>\n",
       "    <tr>\n",
       "        <td>HL353697</td>\n",
       "        <td>BATTERY</td>\n",
       "        <td>South Shore</td>\n",
       "    </tr>\n",
       "    <tr>\n",
       "        <td>HS305355</td>\n",
       "        <td>NARCOTICS</td>\n",
       "        <td>Brighton Park</td>\n",
       "    </tr>\n",
       "    <tr>\n",
       "        <td>JA460432</td>\n",
       "        <td>BATTERY</td>\n",
       "        <td>Ashburn</td>\n",
       "    </tr>\n",
       "    <tr>\n",
       "        <td>HR585012</td>\n",
       "        <td>CRIMINAL TRESPASS</td>\n",
       "        <td>Ashburn</td>\n",
       "    </tr>\n",
       "    <tr>\n",
       "        <td>HH292682</td>\n",
       "        <td>PUBLIC PEACE VIOLATION</td>\n",
       "        <td>None</td>\n",
       "    </tr>\n",
       "    <tr>\n",
       "        <td>G635735</td>\n",
       "        <td>PUBLIC PEACE VIOLATION</td>\n",
       "        <td>None</td>\n",
       "    </tr>\n",
       "</table>"
      ],
      "text/plain": [
       "[('HK577020', 'NARCOTICS', 'Rogers Park'),\n",
       " ('HL725506', 'BATTERY', 'Lincoln Square'),\n",
       " ('HH639427', 'BATTERY', 'Austin'),\n",
       " ('HS200939', 'CRIMINAL DAMAGE', 'Austin'),\n",
       " ('HT315369', 'ASSAULT', 'East Garfield Park'),\n",
       " ('HP716225', 'BATTERY', 'Douglas'),\n",
       " ('HL353697', 'BATTERY', 'South Shore'),\n",
       " ('HS305355', 'NARCOTICS', 'Brighton Park'),\n",
       " ('JA460432', 'BATTERY', 'Ashburn'),\n",
       " ('HR585012', 'CRIMINAL TRESPASS', 'Ashburn'),\n",
       " ('HH292682', 'PUBLIC PEACE VIOLATION', None),\n",
       " ('G635735', 'PUBLIC PEACE VIOLATION', None)]"
      ]
     },
     "metadata": {},
     "execution_count": 4
    }
   ],
   "metadata": {}
  },
  {
   "cell_type": "markdown",
   "source": [
    "# Exercise 2: Creating a View\n",
    "\n",
    "For privacy reasons, you have been asked to create a view that enables users to select just the school name and the icon fields from the CHICAGO_PUBLIC_SCHOOLS table. By providing a view, you can ensure that users cannot see the actual scores given to a school, just the icon associated with their score. You should define new names for the view columns to obscure the use of scores and icons in the original table.\n",
    "\n",
    "### Question 1\n",
    "\n",
    "*   Write and execute a SQL statement to create a view showing the columns listed in the following table, with new column names as shown in the second column.\n",
    "\n",
    "| Column name in CHICAGO_PUBLIC_SCHOOLS | Column name in view |\n",
    "| ------------------------------------- | ------------------- |\n",
    "| NAME_OF_SCHOOL                        | School_Name         |\n",
    "| Safety_Icon                           | Safety_Rating       |\n",
    "| Family_Involvement_Icon               | Family_Rating       |\n",
    "| Environment_Icon                      | Environment_Rating  |\n",
    "| Instruction_Icon                      | Instruction_Rating  |\n",
    "| Leaders_Icon                          | Leaders_Rating      |\n",
    "| Teachers_Icon                         | Teachers_Rating     |\n",
    "\n",
    "*   Write and execute a SQL statement that returns all of the columns from the view.\n",
    "\n",
    "*   Write and execute a SQL statement that returns just the school name and leaders rating from the view.\n",
    "\n",
    "**Take a screenshot showing the last SQL query and its results.**"
   ],
   "metadata": {}
  },
  {
   "cell_type": "code",
   "execution_count": 54,
   "source": [
    "%%sql\n",
    "CREATE OR REPLACE VIEW CHICAGO_PUBLIC_SCHOOLS_RATINGS (\n",
    "    SCHOOL_NAME, \n",
    "    SAFETY_RATING, \n",
    "    FAMILY_RATING, \n",
    "    ENVIRONMENT_RATING, \n",
    "    INSTRUCTION_RATING, \n",
    "    LEADERS_RATING, \n",
    "    TEACHERS_RATING\n",
    "    ) AS\n",
    "SELECT\n",
    "    NAME_OF_SCHOOL, \n",
    "    SAFETY_ICON, \n",
    "    FAMILY_INVOLVEMENT_ICON, \n",
    "    ENVIRONMENT_ICON, \n",
    "    INSTRUCTION_ICON, \n",
    "    LEADERS_ICON, \n",
    "    TEACHERS_ICON\n",
    "FROM CHICAGO_PUBLIC_SCHOOLS"
   ],
   "outputs": [
    {
     "output_type": "stream",
     "name": "stdout",
     "text": [
      " * ibm_db_sa://xdh94237:***@54a2f15b-5c0f-46df-8954-7e38e612c2bd.c1ogj3sd0tgtu0lqde00.databases.appdomain.cloud:32733/bludb\n",
      "Done.\n"
     ]
    },
    {
     "output_type": "execute_result",
     "data": {
      "text/plain": [
       "[]"
      ]
     },
     "metadata": {},
     "execution_count": 54
    }
   ],
   "metadata": {}
  },
  {
   "cell_type": "code",
   "execution_count": 65,
   "source": [
    "%%sql\n",
    "SELECT * FROM CHICAGO_PUBLIC_SCHOOLS_RATINGS\n",
    "limit 1"
   ],
   "outputs": [
    {
     "output_type": "stream",
     "name": "stdout",
     "text": [
      " * ibm_db_sa://xdh94237:***@54a2f15b-5c0f-46df-8954-7e38e612c2bd.c1ogj3sd0tgtu0lqde00.databases.appdomain.cloud:32733/bludb\n",
      "Done.\n"
     ]
    },
    {
     "output_type": "execute_result",
     "data": {
      "text/html": [
       "<table>\n",
       "    <tr>\n",
       "        <th>school_name</th>\n",
       "        <th>safety_rating</th>\n",
       "        <th>family_rating</th>\n",
       "        <th>environment_rating</th>\n",
       "        <th>instruction_rating</th>\n",
       "        <th>leaders_rating</th>\n",
       "        <th>teachers_rating</th>\n",
       "    </tr>\n",
       "    <tr>\n",
       "        <td>Abraham Lincoln Elementary School</td>\n",
       "        <td>Very Strong</td>\n",
       "        <td>Very Strong</td>\n",
       "        <td>Strong</td>\n",
       "        <td>Strong</td>\n",
       "        <td>Weak</td>\n",
       "        <td>Strong</td>\n",
       "    </tr>\n",
       "</table>"
      ],
      "text/plain": [
       "[('Abraham Lincoln Elementary School', 'Very Strong', 'Very Strong', 'Strong', 'Strong', 'Weak', 'Strong')]"
      ]
     },
     "metadata": {},
     "execution_count": 65
    }
   ],
   "metadata": {}
  },
  {
   "cell_type": "code",
   "execution_count": 66,
   "source": [
    "%%sql\n",
    "SELECT\n",
    "    SCHOOL_NAME, \n",
    "    LEADERS_RATING\n",
    "FROM CHICAGO_PUBLIC_SCHOOLS_RATINGS\n",
    "limit 1"
   ],
   "outputs": [
    {
     "output_type": "stream",
     "name": "stdout",
     "text": [
      " * ibm_db_sa://xdh94237:***@54a2f15b-5c0f-46df-8954-7e38e612c2bd.c1ogj3sd0tgtu0lqde00.databases.appdomain.cloud:32733/bludb\n",
      "Done.\n"
     ]
    },
    {
     "output_type": "execute_result",
     "data": {
      "text/html": [
       "<table>\n",
       "    <tr>\n",
       "        <th>school_name</th>\n",
       "        <th>leaders_rating</th>\n",
       "    </tr>\n",
       "    <tr>\n",
       "        <td>Abraham Lincoln Elementary School</td>\n",
       "        <td>Weak</td>\n",
       "    </tr>\n",
       "</table>"
      ],
      "text/plain": [
       "[('Abraham Lincoln Elementary School', 'Weak')]"
      ]
     },
     "metadata": {},
     "execution_count": 66
    }
   ],
   "metadata": {}
  },
  {
   "cell_type": "markdown",
   "source": [
    "# Exercise 3: Creating a Stored Procedure\n",
    "\n",
    "The icon fields are calculated based on the value in the corresponding score field. You need to make sure that when a score field is updated, the icon field is updated too. To do this, you will write a stored procedure that receives the school id and a leaders score as input parameters, calculates the icon setting and updates the fields appropriately.\n",
    "\n",
    "### Question 1\n",
    "\n",
    "*   Write the structure of a query to create or replace a stored procedure called UPDATE_LEADERS_SCORE that takes a in_School_ID parameter as an integer and a in_Leader_Score parameter as an integer. Don't forget to use the #SET TERMINATOR statement to use the @ for the CREATE statement terminator.\n",
    "\n",
    "**Take a screenshot showing the SQL query.**"
   ],
   "metadata": {}
  },
  {
   "cell_type": "code",
   "execution_count": null,
   "source": [
    "--#SET TERMINATOR @\n",
    "CREATE OR REPLACE PROCEDURE UPDATE_LEADERS_SCORE(\n",
    "    In in_School_ID integer,\n",
    "    In in_Leader_Score integer\n",
    ")\n",
    "LANGUAGE SQL\n",
    "BEGIN\n",
    "END\n",
    "@"
   ],
   "outputs": [],
   "metadata": {}
  },
  {
   "cell_type": "markdown",
   "source": [
    "### Question 2\n",
    "\n",
    "*   Inside your stored procedure, write a SQL statement to update the Leaders_Score field in the CHICAGO_PUBLIC_SCHOOLS table for the school identified by in_School_ID to the value in the in_Leader_Score parameter.\n",
    "\n",
    "**Take a screenshot showing the SQL query.**"
   ],
   "metadata": {}
  },
  {
   "cell_type": "code",
   "execution_count": null,
   "source": [
    "--#SET TERMINATOR @\n",
    "CREATE OR REPLACE PROCEDURE UPDATE_LEADERS_SCORE(\n",
    "    In in_School_ID integer, \n",
    "    In in_Leader_Score integer\n",
    ")\n",
    "LANGUAGE SQL\n",
    "BEGIN\n",
    "UPDATE CHICAGO_PUBLIC_SCHOOLS\n",
    "SET LEADERS_SCORE = in_Leader_Score\n",
    "WHERE SCHOOL_ID = in_School_ID;\n",
    "END\n",
    "@"
   ],
   "outputs": [],
   "metadata": {}
  },
  {
   "cell_type": "markdown",
   "source": [
    "### Question 3\n",
    "\n",
    "*   Inside your stored procedure, write a SQL IF statement to update the Leaders_Icon field in the CHICAGO_PUBLIC_SCHOOLS table for the school identified by in_School_ID using the following information.\n",
    "\n",
    "| Score lower limit | Score upper limit | Icon        |\n",
    "| ----------------- | ----------------- | ----------- |\n",
    "| 80                | 99                | Very strong |\n",
    "| 60                | 79                | Strong      |\n",
    "| 40                | 59                | Average     |\n",
    "| 20                | 39                | Weak        |\n",
    "| 0                 | 19                | Very weak   |\n",
    "\n",
    "<details>\n",
    "<summary>Hint 1\n",
    "</summary>\n",
    "Remember that once a clause of the IF statement executes, no further checking occurs and processing moves to the code below the IF statement.\n",
    "</details>\n",
    "\n",
    "<details>\n",
    "<summary>Hint 2\n",
    "</summary>\n",
    "Your IF statement should have a structure similar to:\n",
    "\n",
    "IF in_Leader_Score > 0 AND in_Leader_Score < 20 THEN\n",
    "\n",
    "\\-- update icon for 0-19\n",
    "\n",
    "ELSEIF in_Leader_Score < 40 THEN\n",
    "\n",
    "\\-- update icon for 20-39\n",
    "\n",
    "ELSEIF in_Leader_Score < 60 THEN\n",
    "\n",
    "\\-- update icon for 40-59\n",
    "\n",
    "ELSEIF in_Leader_Score < 80 THEN\n",
    "\n",
    "\\-- update icon for 60-79\n",
    "\n",
    "ELSEIF in_Leader_Score < 100 THEN\n",
    "\n",
    "\\-- update icon for 80-99\n",
    "\n",
    "END IF;\n",
    "\n",
    "</details>\n",
    "\n",
    "**Take a screenshot showing the SQL query.**"
   ],
   "metadata": {}
  },
  {
   "cell_type": "code",
   "execution_count": null,
   "source": [
    "--#SET TERMINATOR @\n",
    "CREATE OR REPLACE PROCEDURE UPDATE_LEADERS_SCORE(\n",
    "    In in_School_ID integer, \n",
    "    In in_Leader_Score integer\n",
    ")\n",
    "LANGUAGE SQL\n",
    "BEGIN\n",
    "UPDATE CHICAGO_PUBLIC_SCHOOLS\n",
    "SET LEADERS_SCORE = in_Leader_Score\n",
    "WHERE SCHOOL_ID = in_School_ID;\n",
    "\n",
    "IF in_Leader_Score > 0 AND in_Leader_Score < 20 THEN \n",
    "UPDATE CHICAGO_PUBLIC_SCHOOLS\n",
    "SET LEADERS_ICON = 'Very Weak';\n",
    "\n",
    "ELSEIF in_Leader_Score < 40 THEN \n",
    "UPDATE CHICAGO_PUBLIC_SCHOOLS\n",
    "SET LEADERS_ICON = 'Weak';\n",
    "\n",
    "ELSEIF in_Leader_Score < 60 THEN \n",
    "UPDATE CHICAGO_PUBLIC_SCHOOLS\n",
    "SET LEADERS_ICON = 'Average';\n",
    "\n",
    "ELSEIF in_Leader_Score < 80 THEN \n",
    "UPDATE CHICAGO_PUBLIC_SCHOOLS\n",
    "SET LEADERS_ICON = 'Strong';\n",
    "\n",
    "ELSEIF in_Leader_Score < 100 THEN \n",
    "UPDATE CHICAGO_PUBLIC_SCHOOLS\n",
    "SET LEADERS_ICON = 'Very Strong';\n",
    "\n",
    "END IF;\n",
    "\n",
    "END \n",
    "@"
   ],
   "outputs": [],
   "metadata": {}
  },
  {
   "cell_type": "markdown",
   "source": [
    "### Question 4\n",
    "\n",
    "*   Run your code to create the stored procedure.\n",
    "\n",
    "**Take a screenshot showing the SQL query and its results.**\n",
    "\n",
    "*   Write a query to call the stored procedure, passing a valid school ID and a leader score of 50, to check that the procedure works as expected."
   ],
   "metadata": {}
  },
  {
   "cell_type": "code",
   "execution_count": 29,
   "source": [
    "%%sql\n",
    "CREATE OR REPLACE PROCEDURE UPDATE_LEADERS_SCORE(\n",
    "    In in_School_ID integer, \n",
    "    In in_Leader_Score integer\n",
    ")\n",
    "LANGUAGE SQL\n",
    "BEGIN\n",
    "UPDATE CHICAGO_PUBLIC_SCHOOLS\n",
    "SET LEADERS_SCORE = in_Leader_Score\n",
    "WHERE SCHOOL_ID = in_School_ID;\n",
    "\n",
    "IF in_Leader_Score > 0 AND in_Leader_Score < 20 THEN \n",
    "UPDATE CHICAGO_PUBLIC_SCHOOLS\n",
    "SET LEADERS_ICON = 'Very Weak';\n",
    "\n",
    "ELSEIF in_Leader_Score < 40 THEN \n",
    "UPDATE CHICAGO_PUBLIC_SCHOOLS\n",
    "SET LEADERS_ICON = 'Weak';\n",
    "\n",
    "ELSEIF in_Leader_Score < 60 THEN \n",
    "UPDATE CHICAGO_PUBLIC_SCHOOLS\n",
    "SET LEADERS_ICON = 'Average';\n",
    "\n",
    "ELSEIF in_Leader_Score < 80 THEN \n",
    "UPDATE CHICAGO_PUBLIC_SCHOOLS\n",
    "SET LEADERS_ICON = 'Strong';\n",
    "\n",
    "ELSEIF in_Leader_Score < 100 THEN \n",
    "UPDATE CHICAGO_PUBLIC_SCHOOLS\n",
    "SET LEADERS_ICON = 'Very Strong';\n",
    "\n",
    "END IF;\n",
    "\n",
    "END "
   ],
   "outputs": [
    {
     "output_type": "stream",
     "name": "stdout",
     "text": [
      " * ibm_db_sa://xdh94237:***@54a2f15b-5c0f-46df-8954-7e38e612c2bd.c1ogj3sd0tgtu0lqde00.databases.appdomain.cloud:32733/bludb\n",
      "Done.\n"
     ]
    },
    {
     "output_type": "execute_result",
     "data": {
      "text/plain": [
       "[]"
      ]
     },
     "metadata": {},
     "execution_count": 29
    }
   ],
   "metadata": {}
  },
  {
   "cell_type": "code",
   "execution_count": 38,
   "source": [
    "%%sql\n",
    "CALL UPDATE_LEADERS_SCORE(610038, 50);\n",
    "SELECT SCHOOL_ID, LEADERS_ICON FROM CHICAGO_PUBLIC_SCHOOLS WHERE SCHOOL_ID = 610038"
   ],
   "outputs": [
    {
     "output_type": "stream",
     "name": "stdout",
     "text": [
      " * ibm_db_sa://xdh94237:***@54a2f15b-5c0f-46df-8954-7e38e612c2bd.c1ogj3sd0tgtu0lqde00.databases.appdomain.cloud:32733/bludb\n",
      "Done.\n",
      "Done.\n"
     ]
    },
    {
     "output_type": "execute_result",
     "data": {
      "text/html": [
       "<table>\n",
       "    <tr>\n",
       "        <th>school_id</th>\n",
       "        <th>leaders_icon</th>\n",
       "    </tr>\n",
       "    <tr>\n",
       "        <td>610038</td>\n",
       "        <td>Average   </td>\n",
       "    </tr>\n",
       "</table>"
      ],
      "text/plain": [
       "[(610038, 'Average   ')]"
      ]
     },
     "metadata": {},
     "execution_count": 38
    }
   ],
   "metadata": {}
  },
  {
   "cell_type": "markdown",
   "source": [
    "# Exercise 4: Using Transactions\n",
    "\n",
    "You realise that if someone calls your code with a score outside of the allowed range (0-99), then the score will be updated with the invalid data and the icon will remain at its previous value. There are various ways to avoid this problem, one of which is using a transaction.\n",
    "\n",
    "### Question 1\n",
    "\n",
    "*   Update your stored procedure definition. Add a generic ELSE clause to the IF statement that rolls back the current work if the score did not fit any of the preceding categories.\n",
    "\n",
    "<details>\n",
    "<summary>Hint 1\n",
    "</summary>\n",
    "You can add an ELSE clause to the IF statement which will only run if none of the previous conditions have been met.\n",
    "</details>\n",
    "\n",
    "**Take a screenshot showing the SQL query.**"
   ],
   "metadata": {}
  },
  {
   "cell_type": "code",
   "execution_count": null,
   "source": [
    "--#SET TERMINATOR @\n",
    "CREATE OR REPLACE PROCEDURE UPDATE_LEADERS_SCORE(\n",
    "    In in_School_ID integer, \n",
    "    In in_Leader_Score integer\n",
    ")\n",
    "LANGUAGE SQL\n",
    "BEGIN\n",
    "UPDATE CHICAGO_PUBLIC_SCHOOLS\n",
    "SET LEADERS_SCORE = in_Leader_Score\n",
    "WHERE SCHOOL_ID = in_School_ID;\n",
    "\n",
    "IF in_Leader_Score > 0 AND in_Leader_Score < 20 THEN \n",
    "UPDATE CHICAGO_PUBLIC_SCHOOLS\n",
    "SET LEADERS_ICON = 'Very Weak';\n",
    "\n",
    "ELSEIF in_Leader_Score < 40 THEN \n",
    "UPDATE CHICAGO_PUBLIC_SCHOOLS\n",
    "SET LEADERS_ICON = 'Weak';\n",
    "\n",
    "ELSEIF in_Leader_Score < 60 THEN \n",
    "UPDATE CHICAGO_PUBLIC_SCHOOLS\n",
    "SET LEADERS_ICON = 'Average';\n",
    "\n",
    "ELSEIF in_Leader_Score < 80 THEN \n",
    "UPDATE CHICAGO_PUBLIC_SCHOOLS\n",
    "SET LEADERS_ICON = 'Strong';\n",
    "\n",
    "ELSEIF in_Leader_Score < 100 THEN \n",
    "UPDATE CHICAGO_PUBLIC_SCHOOLS\n",
    "SET LEADERS_ICON = 'Very Strong';\n",
    "\n",
    "ELSE \n",
    "ROLLBACK WORK;\n",
    "END IF;\n",
    "\n",
    "END \n",
    "@"
   ],
   "outputs": [],
   "metadata": {}
  },
  {
   "cell_type": "markdown",
   "source": [
    "### Question 2\n",
    "\n",
    "*   Update your stored procedure definition again. Add a statement to commit the current unit of work at the end of the procedure.\n",
    "\n",
    "<details>\n",
    "<summary>Hint 1\n",
    "</summary>\n",
    "Remember that as soon as any code inside the IF/ELSE IF/ELSE statements completes, processing resumes after the END IF, so you can add your commit code there.\n",
    "</details>\n",
    "\n",
    "**Take a screenshot showing the SQL query.**"
   ],
   "metadata": {}
  },
  {
   "cell_type": "code",
   "execution_count": null,
   "source": [
    "--#SET TERMINATOR @\n",
    "CREATE OR REPLACE PROCEDURE UPDATE_LEADERS_SCORE(\n",
    "    In in_School_ID integer, \n",
    "    In in_Leader_Score integer\n",
    ")\n",
    "LANGUAGE SQL\n",
    "BEGIN\n",
    "UPDATE CHICAGO_PUBLIC_SCHOOLS\n",
    "SET LEADERS_SCORE = in_Leader_Score\n",
    "WHERE SCHOOL_ID = in_School_ID;\n",
    "\n",
    "IF in_Leader_Score > 0 AND in_Leader_Score < 20 THEN \n",
    "UPDATE CHICAGO_PUBLIC_SCHOOLS\n",
    "SET LEADERS_ICON = 'Very Weak';\n",
    "\n",
    "ELSEIF in_Leader_Score < 40 THEN \n",
    "UPDATE CHICAGO_PUBLIC_SCHOOLS\n",
    "SET LEADERS_ICON = 'Weak';\n",
    "\n",
    "ELSEIF in_Leader_Score < 60 THEN \n",
    "UPDATE CHICAGO_PUBLIC_SCHOOLS\n",
    "SET LEADERS_ICON = 'Average';\n",
    "\n",
    "ELSEIF in_Leader_Score < 80 THEN \n",
    "UPDATE CHICAGO_PUBLIC_SCHOOLS\n",
    "SET LEADERS_ICON = 'Strong';\n",
    "\n",
    "ELSEIF in_Leader_Score < 100 THEN \n",
    "UPDATE CHICAGO_PUBLIC_SCHOOLS\n",
    "SET LEADERS_ICON = 'Very Strong';\n",
    "\n",
    "ELSE ROLLBACK WORK;\n",
    "END IF;\n",
    "COMMIT WORK;\n",
    "\n",
    "END \n",
    "@"
   ],
   "outputs": [],
   "metadata": {}
  },
  {
   "cell_type": "markdown",
   "source": [
    "*   Run your code to replace the stored procedure.\n",
    "\n",
    "*   Write and run one query to check that the updated stored procedure works as expected when you use a valid score of 38.\n",
    "\n",
    "*   Write and run another query to check that the updated stored procedure works as expected when you use an invalid score of 101."
   ],
   "metadata": {}
  },
  {
   "cell_type": "code",
   "execution_count": 48,
   "source": [
    "%%sql\n",
    "CREATE OR REPLACE PROCEDURE UPDATE_LEADERS_SCORE(\n",
    "    In in_School_ID integer, \n",
    "    In in_Leader_Score integer\n",
    ")\n",
    "LANGUAGE SQL\n",
    "BEGIN\n",
    "UPDATE CHICAGO_PUBLIC_SCHOOLS\n",
    "SET LEADERS_SCORE = in_Leader_Score\n",
    "WHERE SCHOOL_ID = in_School_ID;\n",
    "\n",
    "IF in_Leader_Score > 0 AND in_Leader_Score < 20 THEN \n",
    "UPDATE CHICAGO_PUBLIC_SCHOOLS\n",
    "SET LEADERS_ICON = 'Very Weak';\n",
    "\n",
    "ELSEIF in_Leader_Score < 40 THEN \n",
    "UPDATE CHICAGO_PUBLIC_SCHOOLS\n",
    "SET LEADERS_ICON = 'Weak';\n",
    "\n",
    "ELSEIF in_Leader_Score < 60 THEN \n",
    "UPDATE CHICAGO_PUBLIC_SCHOOLS\n",
    "SET LEADERS_ICON = 'Average';\n",
    "\n",
    "ELSEIF in_Leader_Score < 80 THEN \n",
    "UPDATE CHICAGO_PUBLIC_SCHOOLS\n",
    "SET LEADERS_ICON = 'Strong';\n",
    "\n",
    "ELSEIF in_Leader_Score < 100 THEN \n",
    "UPDATE CHICAGO_PUBLIC_SCHOOLS\n",
    "SET LEADERS_ICON = 'Very Strong';\n",
    "\n",
    "ELSE ROLLBACK WORK;\n",
    "END IF;\n",
    "COMMIT WORK;\n",
    "\n",
    "END"
   ],
   "outputs": [
    {
     "output_type": "stream",
     "name": "stdout",
     "text": [
      " * ibm_db_sa://xdh94237:***@54a2f15b-5c0f-46df-8954-7e38e612c2bd.c1ogj3sd0tgtu0lqde00.databases.appdomain.cloud:32733/bludb\n",
      "Done.\n"
     ]
    },
    {
     "output_type": "execute_result",
     "data": {
      "text/plain": [
       "[]"
      ]
     },
     "metadata": {},
     "execution_count": 48
    }
   ],
   "metadata": {}
  },
  {
   "cell_type": "code",
   "execution_count": 49,
   "source": [
    "%%sql\n",
    "CALL UPDATE_LEADERS_SCORE(610038, 38);\n",
    "SELECT SCHOOL_ID, LEADERS_ICON FROM CHICAGO_PUBLIC_SCHOOLS WHERE SCHOOL_ID = 610038"
   ],
   "outputs": [
    {
     "output_type": "stream",
     "name": "stdout",
     "text": [
      " * ibm_db_sa://xdh94237:***@54a2f15b-5c0f-46df-8954-7e38e612c2bd.c1ogj3sd0tgtu0lqde00.databases.appdomain.cloud:32733/bludb\n",
      "Done.\n",
      "Done.\n"
     ]
    },
    {
     "output_type": "execute_result",
     "data": {
      "text/html": [
       "<table>\n",
       "    <tr>\n",
       "        <th>school_id</th>\n",
       "        <th>leaders_icon</th>\n",
       "    </tr>\n",
       "    <tr>\n",
       "        <td>610038</td>\n",
       "        <td>Weak      </td>\n",
       "    </tr>\n",
       "</table>"
      ],
      "text/plain": [
       "[(610038, 'Weak      ')]"
      ]
     },
     "metadata": {},
     "execution_count": 49
    }
   ],
   "metadata": {}
  },
  {
   "cell_type": "code",
   "execution_count": 51,
   "source": [
    "%%sql\n",
    "CALL UPDATE_LEADERS_SCORE(610038, 101);\n",
    "SELECT SCHOOL_ID, LEADERS_ICON FROM CHICAGO_PUBLIC_SCHOOLS WHERE SCHOOL_ID = 610038"
   ],
   "outputs": [
    {
     "output_type": "stream",
     "name": "stdout",
     "text": [
      " * ibm_db_sa://xdh94237:***@54a2f15b-5c0f-46df-8954-7e38e612c2bd.c1ogj3sd0tgtu0lqde00.databases.appdomain.cloud:32733/bludb\n",
      "Done.\n",
      "Done.\n"
     ]
    },
    {
     "output_type": "execute_result",
     "data": {
      "text/html": [
       "<table>\n",
       "    <tr>\n",
       "        <th>school_id</th>\n",
       "        <th>leaders_icon</th>\n",
       "    </tr>\n",
       "    <tr>\n",
       "        <td>610038</td>\n",
       "        <td>Weak      </td>\n",
       "    </tr>\n",
       "</table>"
      ],
      "text/plain": [
       "[(610038, 'Weak      ')]"
      ]
     },
     "metadata": {},
     "execution_count": 51
    }
   ],
   "metadata": {}
  },
  {
   "cell_type": "markdown",
   "source": [
    "# Summary\n",
    "\n",
    "You can now write advanced SQL statements to query data from multiple tables, to obscure sensitive data from users, and to control how information is updated in your tables.\n",
    "\n",
    "# Authors\n",
    "\n",
    "<h4> Lin Joyner <h4/>\n",
    "<h4> Ramesh Sannareddy <h4/>\n",
    "\n",
    "# Other Contributor\n",
    "\n",
    "Rose Malcolm\n",
    "\n",
    "# Changelog\n",
    "\n",
    "| Date       | Version | Changed by    | Change Description                                                               |\n",
    "| ---------- | ------- | ------------- | -------------------------------------------------------------------------------- |\n",
    "| 02-July-21 | 1.2     | Lakshmi Holla | Made changes in Hint section.                                                    |\n",
    "| 27-Jan-21  | 1.1     | Rose Malcolm  | Added instructions to go to Exercise 1 if tables already created and poplulated. |\n",
    "| 05-Jun-20  | 1.0     | Rose Malcolm  | Initial version created                                                          |\n",
    "\n",
    "## <h3 align=\"center\"> © IBM Corporation 2020. All rights reserved. <h3/>"
   ],
   "metadata": {}
  }
 ],
 "metadata": {
  "language_info": {
   "name": "python",
   "version": "3.9.5",
   "mimetype": "text/x-python",
   "codemirror_mode": {
    "name": "ipython",
    "version": 3
   },
   "pygments_lexer": "ipython3",
   "nbconvert_exporter": "python",
   "file_extension": ".py"
  },
  "kernelspec": {
   "name": "python3",
   "display_name": "Python 3.9.5 64-bit"
  },
  "interpreter": {
   "hash": "7812ea015bdcee6f23a998adcdd2ef97c151c0c241b7b7070987d9313e41299d"
  }
 },
 "nbformat": 4,
 "nbformat_minor": 5
}